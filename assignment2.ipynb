{
 "cells": [
  {
   "cell_type": "code",
   "execution_count": 1,
   "id": "63ed3276-024e-4e4d-bec3-78b8f9ad7ca1",
   "metadata": {},
   "outputs": [
    {
     "data": {
      "text/plain": [
       "'2nd multiline comment denoted by ()'"
      ]
     },
     "execution_count": 1,
     "metadata": {},
     "output_type": "execute_result"
    }
   ],
   "source": [
    "#Q1\n",
    "#there are 2 types of comment \n",
    "#1st single line comment denoted by (#)\n",
    "\"\"\"2nd multiline comment denoted by (\"\"\" \"\"\")\"\"\""
   ]
  },
  {
   "cell_type": "code",
   "execution_count": 3,
   "id": "441e60fc-f238-47f2-ae7b-7f8d55e21a58",
   "metadata": {},
   "outputs": [],
   "source": [
    "#Q2\n",
    "#variables is used to store value for ex\n",
    "a = 2\n",
    "b= 3.24\n",
    "s = \"osdksdn\""
   ]
  },
  {
   "cell_type": "code",
   "execution_count": 18,
   "id": "73f9e853-f7bf-4c29-b976-1804ba38877b",
   "metadata": {},
   "outputs": [
    {
     "data": {
      "text/plain": [
       "'asdf1'"
      ]
     },
     "execution_count": 18,
     "metadata": {},
     "output_type": "execute_result"
    }
   ],
   "source": [
    "#Q3\n",
    "#we can convert one data type into another data type through casting\n",
    "s = \"asdf\"\n",
    "s + str(1)   #casting"
   ]
  },
  {
   "cell_type": "code",
   "execution_count": 21,
   "id": "a7a79e4b-b9ba-4a88-bdde-c50540f52220",
   "metadata": {},
   "outputs": [],
   "source": [
    "#Q4\n",
    "#You need to open a command line and type the word python followed by the path \n",
    "#to your script file like this: python first_script.py Hello World! Then you hit the \n",
    "#ENTER button from the keyboard, and that's it"
   ]
  },
  {
   "cell_type": "code",
   "execution_count": 23,
   "id": "2ed9510e-1243-4224-8cc9-d3ff5072685f",
   "metadata": {},
   "outputs": [
    {
     "data": {
      "text/plain": [
       "[2, 3]"
      ]
     },
     "execution_count": 23,
     "metadata": {},
     "output_type": "execute_result"
    }
   ],
   "source": [
    "#Q5\n",
    "l = [1, 2, 3, 4, 5]\n",
    "l[1:3]"
   ]
  },
  {
   "cell_type": "code",
   "execution_count": 25,
   "id": "a001c29d-1b02-4ab2-b2a8-06c1a5066334",
   "metadata": {},
   "outputs": [
    {
     "data": {
      "text/plain": [
       "complex"
      ]
     },
     "execution_count": 25,
     "metadata": {},
     "output_type": "execute_result"
    }
   ],
   "source": [
    "#Q6\n",
    "#complex number:\n",
    "#Complex numbers are the numbers that are expressed in the form of a+ib where, \n",
    "#a,b are real numbers and 'i' is an imaginary number called “iota”\n",
    "#complex number representation in python\n",
    "c = 5 + 4j\n",
    "type(c)"
   ]
  },
  {
   "cell_type": "code",
   "execution_count": 26,
   "id": "b9635a83-d43f-4212-81b5-bac6de6054ce",
   "metadata": {},
   "outputs": [],
   "source": [
    "#Q7\n",
    "age = 25"
   ]
  },
  {
   "cell_type": "code",
   "execution_count": 27,
   "id": "d5271931-6dfe-4917-837c-9136cfa0ee71",
   "metadata": {},
   "outputs": [
    {
     "data": {
      "text/plain": [
       "float"
      ]
     },
     "execution_count": 27,
     "metadata": {},
     "output_type": "execute_result"
    }
   ],
   "source": [
    "#Q8\n",
    "price = 9.99\n",
    "type(price)"
   ]
  },
  {
   "cell_type": "code",
   "execution_count": 28,
   "id": "1b08e75f-be06-44bf-9634-12ca6e0325b5",
   "metadata": {},
   "outputs": [
    {
     "data": {
      "text/plain": [
       "'Arpit Nimkar'"
      ]
     },
     "execution_count": 28,
     "metadata": {},
     "output_type": "execute_result"
    }
   ],
   "source": [
    "#Q9\n",
    "name = \"Arpit Nimkar\"\n",
    "name"
   ]
  },
  {
   "cell_type": "code",
   "execution_count": 31,
   "id": "b31f9e7a-0361-415f-8ef6-9b9bcb183ecb",
   "metadata": {},
   "outputs": [
    {
     "data": {
      "text/plain": [
       "' Wo'"
      ]
     },
     "execution_count": 31,
     "metadata": {},
     "output_type": "execute_result"
    }
   ],
   "source": [
    "#Q10\n",
    "s = \"Hello, World\"\n",
    "s[7:]"
   ]
  },
  {
   "cell_type": "code",
   "execution_count": null,
   "id": "70d2314e-9902-41f4-aaa4-6a057dc7ad09",
   "metadata": {},
   "outputs": [],
   "source": []
  }
 ],
 "metadata": {
  "kernelspec": {
   "display_name": "Python 3 (ipykernel)",
   "language": "python",
   "name": "python3"
  },
  "language_info": {
   "codemirror_mode": {
    "name": "ipython",
    "version": 3
   },
   "file_extension": ".py",
   "mimetype": "text/x-python",
   "name": "python",
   "nbconvert_exporter": "python",
   "pygments_lexer": "ipython3",
   "version": "3.10.8"
  }
 },
 "nbformat": 4,
 "nbformat_minor": 5
}

{
 "cells": [
  {
   "cell_type": "code",
   "execution_count": 1,
   "id": "c3776847-f5fd-4b12-91be-174aa6187951",
   "metadata": {},
   "outputs": [],
   "source": [
    "#Q1\n",
    "#class : class is just the blueprint or classification of real world entity\n",
    "#object : object is real world entity or instance of class\n",
    "class car:\n",
    "                                             #class\n",
    "    def __init__(self, price, type):\n",
    "        self.price = price\n",
    "        self.type = type"
   ]
  },
  {
   "cell_type": "code",
   "execution_count": 2,
   "id": "2bad0a68-2d01-4e83-b1c1-29963b8e932e",
   "metadata": {},
   "outputs": [],
   "source": [
    "fortuner = car(4000000, \"SUV\")               #object"
   ]
  },
  {
   "cell_type": "code",
   "execution_count": 3,
   "id": "bdbba72e-d878-4d46-872f-f1cdc769d4b6",
   "metadata": {},
   "outputs": [],
   "source": [
    "#Q2\n",
    "#four pillers of oops\n",
    "#1.Abstraction\n",
    "#2.Encapsulation\n",
    "#3.Inheritance\n",
    "#4.Polymorphism"
   ]
  },
  {
   "cell_type": "code",
   "execution_count": 4,
   "id": "42c3db04-db01-48ee-aa19-242c743b1fc7",
   "metadata": {},
   "outputs": [],
   "source": [
    "#Q3\n",
    "#__init__ : is used to invoke the constructor\n",
    "#constructor is used to take input specific to the object\n",
    "class pwskills:\n",
    "    \n",
    "    def __init__(self, course, price, mentor):          #constructor\n",
    "        self.course = course\n",
    "        self.price = price\n",
    "        self.mentor = mentor"
   ]
  },
  {
   "cell_type": "code",
   "execution_count": 5,
   "id": "17b27940-1906-45fd-94b7-128d05dfdbb9",
   "metadata": {},
   "outputs": [],
   "source": [
    "pw = pwskills(\"Data Science\", 3500, [\"sudhanshu\", \"krish\"])"
   ]
  },
  {
   "cell_type": "code",
   "execution_count": null,
   "id": "414f8eec-dc79-495e-9438-f8de28c9e86a",
   "metadata": {},
   "outputs": [],
   "source": [
    "#Q4\n",
    "#self : self keyword is used to associate variable, method with the class or instance of the class\n",
    "#       we can use any name at place of self"
   ]
  },
  {
   "cell_type": "code",
   "execution_count": null,
   "id": "cba79a37-1af8-4bbe-b643-3f561153a3bc",
   "metadata": {},
   "outputs": [],
   "source": [
    "#Q5\n",
    "#Inheritance : allows us to define a class that inherits all the methods and properties from another class"
   ]
  },
  {
   "cell_type": "code",
   "execution_count": 6,
   "id": "2398999d-8e29-49f5-9048-a32fdfb64170",
   "metadata": {},
   "outputs": [],
   "source": [
    "#Multilevel Inheritance\n",
    "class class1:\n",
    "    def class1_test(self):\n",
    "        return \"class1 test\""
   ]
  },
  {
   "cell_type": "code",
   "execution_count": 7,
   "id": "18c6223e-177a-49a9-90f1-515b9fee9a2e",
   "metadata": {},
   "outputs": [],
   "source": [
    "class class2(class1):\n",
    "    def class2_test(self):\n",
    "        return \"class2 test\""
   ]
  },
  {
   "cell_type": "code",
   "execution_count": 8,
   "id": "21dba356-e1b7-41df-a419-007ecdfcb63d",
   "metadata": {},
   "outputs": [],
   "source": [
    "class class3(class2):   #multilevel inheritance \n",
    "    pass  "
   ]
  },
  {
   "cell_type": "code",
   "execution_count": 9,
   "id": "22a4d1c3-8cb9-4faa-8b72-1e95c3f4834f",
   "metadata": {},
   "outputs": [],
   "source": [
    "#Multiple Inheritance\n",
    "class class1:\n",
    "    def test_class1(self):\n",
    "        return \"this is class1\""
   ]
  },
  {
   "cell_type": "code",
   "execution_count": 10,
   "id": "352a3d51-0e8f-4484-8fe1-8cefdb19b584",
   "metadata": {},
   "outputs": [],
   "source": [
    "class class2:\n",
    "    def test_class2(self):\n",
    "        return \"this is class2\""
   ]
  },
  {
   "cell_type": "code",
   "execution_count": 11,
   "id": "8fa050ab-b483-48f1-a2b1-9ba4e6a32ad5",
   "metadata": {},
   "outputs": [],
   "source": [
    "class class3(class1, class2):          #multiple inheritance\n",
    "    pass"
   ]
  }
 ],
 "metadata": {
  "kernelspec": {
   "display_name": "Python 3 (ipykernel)",
   "language": "python",
   "name": "python3"
  },
  "language_info": {
   "codemirror_mode": {
    "name": "ipython",
    "version": 3
   },
   "file_extension": ".py",
   "mimetype": "text/x-python",
   "name": "python",
   "nbconvert_exporter": "python",
   "pygments_lexer": "ipython3",
   "version": "3.10.8"
  }
 },
 "nbformat": 4,
 "nbformat_minor": 5
}

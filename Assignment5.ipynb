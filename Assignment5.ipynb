{
 "cells": [
  {
   "cell_type": "code",
   "execution_count": 1,
   "id": "07125fe0-e6ed-4115-8dda-95c78695880c",
   "metadata": {},
   "outputs": [],
   "source": [
    "#Q1\n",
    "class vehicle:\n",
    "    \n",
    "    def __init__(self, name_of_vehicle, max_speed, average_of_vehicle):\n",
    "        self.name_of_vehicle = name_of_vehicle\n",
    "        self.max_speed = max_speed\n",
    "        self.average_of_vehicle = average_of_vehicle"
   ]
  },
  {
   "cell_type": "code",
   "execution_count": 2,
   "id": "e65962d5-e23b-42f8-8e02-921b03a95123",
   "metadata": {},
   "outputs": [],
   "source": [
    "#Q2\n",
    "class car(vehicle):\n",
    "    \n",
    "    def __init__(self, name_of_vehicle, max_speed, average_of_vehicle):\n",
    "        vehicle.__init__(self, name_of_vehicle, max_speed, average_of_vehicle)\n",
    "        \n",
    "    def seating_capacity(self, capacity):\n",
    "        return self.name_of_vehicle, capacity"
   ]
  },
  {
   "cell_type": "code",
   "execution_count": 4,
   "id": "708dfb9c-9047-4412-822d-b97b7d94b31b",
   "metadata": {},
   "outputs": [],
   "source": [
    "#Q3\n",
    "class class1:\n",
    "    def test1(self):\n",
    "        return \"this is class 1\""
   ]
  },
  {
   "cell_type": "code",
   "execution_count": 5,
   "id": "9861e174-5d3d-4d4b-afc9-a01c7ac598c5",
   "metadata": {},
   "outputs": [],
   "source": [
    "class class2:\n",
    "    def test2(self):\n",
    "        return \"this is class2\""
   ]
  },
  {
   "cell_type": "code",
   "execution_count": 6,
   "id": "af597f0d-6174-4c2a-9e66-5bec75beecf7",
   "metadata": {},
   "outputs": [],
   "source": [
    "class class3(class1, class2):\n",
    "    pass"
   ]
  },
  {
   "cell_type": "code",
   "execution_count": 8,
   "id": "9a81e9ae-497d-4af7-a1d4-3e2d5f2298d5",
   "metadata": {},
   "outputs": [
    {
     "data": {
      "text/plain": [
       "'this is class 1'"
      ]
     },
     "execution_count": 8,
     "metadata": {},
     "output_type": "execute_result"
    }
   ],
   "source": [
    "c3 = class3()\n",
    "c3.test1()"
   ]
  },
  {
   "cell_type": "code",
   "execution_count": 10,
   "id": "3ea8899e-cdea-4594-9209-2de429ee42fe",
   "metadata": {},
   "outputs": [],
   "source": [
    "#Q4\n",
    "#getter : getter is method is used to get the private variables inside the class. this is used for\n",
    "#         that the variable inside the should not directly assessible by end user\n",
    "#setter : setter is method is used to set the private variables value which are inside class. this is used \n",
    "#         for that the variable inside the should not directly assessible by end user\n",
    "class car:\n",
    "    def __init__(self, year, model, speed):\n",
    "        self.__year = year       \n",
    "        self.__model = model\n",
    "        self.__speed = 0\n",
    "        \n",
    "    def set_speed(self, speed):          \n",
    "        self.__speed = 0 if speed<0 else speed   \n",
    "    \n",
    "    def get_speed(self):\n",
    "        return self.__speed"
   ]
  },
  {
   "cell_type": "code",
   "execution_count": 12,
   "id": "dda1de33-f88a-4079-a26a-b65c696fa208",
   "metadata": {},
   "outputs": [
    {
     "name": "stdout",
     "output_type": "stream",
     "text": [
      "Inside Child\n",
      "Inside Parent2\n"
     ]
    }
   ],
   "source": [
    "#Q5\n",
    "#method overriding : when the method in parent class and child class has same name, same arguments and\n",
    "#                    smae return type \n",
    "class Parent1():\n",
    "  \n",
    "    def show(self):\n",
    "        print(\"Inside Parent1\")\n",
    "\n",
    "class Parent2():\n",
    "\n",
    "    def display(self):\n",
    "        print(\"Inside Parent2\")\n",
    "                 \n",
    "class Child(Parent1, Parent2):\n",
    "\n",
    "    def show(self):\n",
    "        print(\"Inside Child\")\n",
    "\n",
    "obj = Child()\n",
    "obj.show()\n",
    "obj.display()"
   ]
  },
  {
   "cell_type": "code",
   "execution_count": null,
   "id": "6b08deb5-f859-4dfa-915b-ee1302073e01",
   "metadata": {},
   "outputs": [],
   "source": []
  },
  {
   "cell_type": "code",
   "execution_count": null,
   "id": "4978ac8a-d8d9-462c-afaf-1bc4098cecee",
   "metadata": {},
   "outputs": [],
   "source": []
  }
 ],
 "metadata": {
  "kernelspec": {
   "display_name": "Python 3 (ipykernel)",
   "language": "python",
   "name": "python3"
  },
  "language_info": {
   "codemirror_mode": {
    "name": "ipython",
    "version": 3
   },
   "file_extension": ".py",
   "mimetype": "text/x-python",
   "name": "python",
   "nbconvert_exporter": "python",
   "pygments_lexer": "ipython3",
   "version": "3.10.8"
  }
 },
 "nbformat": 4,
 "nbformat_minor": 5
}

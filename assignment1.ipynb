{
 "cells": [
  {
   "cell_type": "code",
   "execution_count": 1,
   "id": "a31e39a1-59c3-458b-8012-0b636ab6ee2a",
   "metadata": {},
   "outputs": [],
   "source": [
    "#Q1\n",
    "s = 'ascdeg'\n",
    "l = [1, 2, 4, \"sdf\", 23.5, True]\n",
    "f = 23.643\n",
    "t = (\"apple\", \"banana\", \"cherry\")"
   ]
  },
  {
   "cell_type": "code",
   "execution_count": 4,
   "id": "d819f975-d93a-446e-9a49-53f9c1dcfc14",
   "metadata": {},
   "outputs": [
    {
     "data": {
      "text/plain": [
       "str"
      ]
     },
     "execution_count": 4,
     "metadata": {},
     "output_type": "execute_result"
    }
   ],
   "source": [
    "#Q2\n",
    "var1 = '' #string\n",
    "type(var1)"
   ]
  },
  {
   "cell_type": "code",
   "execution_count": 8,
   "id": "b7d533b2-23be-415b-9396-73bfc87e13cc",
   "metadata": {},
   "outputs": [
    {
     "data": {
      "text/plain": [
       "str"
      ]
     },
     "execution_count": 8,
     "metadata": {},
     "output_type": "execute_result"
    }
   ],
   "source": [
    "var2 = '[ DS , ML , Python]'   #string \n",
    "type(var2)"
   ]
  },
  {
   "cell_type": "code",
   "execution_count": 9,
   "id": "7e709423-17df-4196-9f82-f7846b57906b",
   "metadata": {},
   "outputs": [
    {
     "data": {
      "text/plain": [
       "list"
      ]
     },
     "execution_count": 9,
     "metadata": {},
     "output_type": "execute_result"
    }
   ],
   "source": [
    "var3 = [ 'DS' , 'ML' , 'Python' ]   #list\n",
    "type(var3)"
   ]
  },
  {
   "cell_type": "code",
   "execution_count": 10,
   "id": "7e82df37-f17a-457e-bacb-6bcffab75694",
   "metadata": {},
   "outputs": [
    {
     "data": {
      "text/plain": [
       "float"
      ]
     },
     "execution_count": 10,
     "metadata": {},
     "output_type": "execute_result"
    }
   ],
   "source": [
    "var4 = 1.    #float\n",
    "type(var4)"
   ]
  },
  {
   "cell_type": "code",
   "execution_count": 11,
   "id": "00394d0b-9c42-482d-88a4-69a013b5273e",
   "metadata": {},
   "outputs": [
    {
     "data": {
      "text/plain": [
       "5.0"
      ]
     },
     "execution_count": 11,
     "metadata": {},
     "output_type": "execute_result"
    }
   ],
   "source": [
    "#Q3\n",
    "10 / 2    #it divides two values and give the result"
   ]
  },
  {
   "cell_type": "code",
   "execution_count": 12,
   "id": "6278b092-4d8a-4463-ab86-f13dde76390d",
   "metadata": {},
   "outputs": [
    {
     "data": {
      "text/plain": [
       "1"
      ]
     },
     "execution_count": 12,
     "metadata": {},
     "output_type": "execute_result"
    }
   ],
   "source": [
    "10 % 3     #it gives reminder after dividing the values"
   ]
  },
  {
   "cell_type": "code",
   "execution_count": 14,
   "id": "e46b5aba-7843-44d3-ba5c-796e873673e7",
   "metadata": {},
   "outputs": [
    {
     "data": {
      "text/plain": [
       "3"
      ]
     },
     "execution_count": 14,
     "metadata": {},
     "output_type": "execute_result"
    }
   ],
   "source": [
    "10 // 3   #it divide the values but floores the result value "
   ]
  },
  {
   "cell_type": "code",
   "execution_count": 15,
   "id": "66913804-9903-484d-ad11-d9eb3a62d96b",
   "metadata": {},
   "outputs": [
    {
     "data": {
      "text/plain": [
       "100"
      ]
     },
     "execution_count": 15,
     "metadata": {},
     "output_type": "execute_result"
    }
   ],
   "source": [
    "10 ** 2   #it power of value"
   ]
  },
  {
   "cell_type": "code",
   "execution_count": 2,
   "id": "eef848cd-e3f2-4f04-91d4-7713be827e84",
   "metadata": {},
   "outputs": [
    {
     "name": "stdout",
     "output_type": "stream",
     "text": [
      "1\n",
      "<class 'int'>\n",
      "2\n",
      "<class 'int'>\n",
      "3\n",
      "<class 'int'>\n",
      "4\n",
      "<class 'int'>\n",
      "5\n",
      "<class 'int'>\n",
      "23.557\n",
      "<class 'float'>\n",
      "56\n",
      "<class 'int'>\n",
      "3\n",
      "<class 'int'>\n",
      "pwskills\n",
      "<class 'str'>\n",
      "data science\n",
      "<class 'str'>\n",
      "True\n",
      "<class 'bool'>\n"
     ]
    }
   ],
   "source": [
    "l = [1, 2, 3, 4, 5, 23.557, 56,3, 'pwskills', \"data science\", True]\n",
    "for i in l:\n",
    "    print(i)\n",
    "    print(type(i))"
   ]
  },
  {
   "cell_type": "code",
   "execution_count": 4,
   "id": "dbce0f63-dcd5-432a-8c54-94eba79287d6",
   "metadata": {},
   "outputs": [
    {
     "name": "stdout",
     "output_type": "stream",
     "text": [
      "2\n"
     ]
    }
   ],
   "source": [
    "#Q5\n",
    "\n",
    "A = 25\n",
    "B = 5\n",
    "count = 0\n",
    "while A > 0:\n",
    "    if A%B == 0:\n",
    "      count = count + 1\n",
    "    A = A / B\n",
    "print(count)"
   ]
  },
  {
   "cell_type": "code",
   "execution_count": 9,
   "id": "9ecfd67f-4fb6-49ec-a9a7-3b89bbd3db7f",
   "metadata": {},
   "outputs": [
    {
     "name": "stdout",
     "output_type": "stream",
     "text": [
      "0 is divisible by 3\n",
      "3 is divisible by 3\n",
      "6 is divisible by 3\n",
      "9 is divisible by 3\n",
      "12 is divisible by 3\n",
      "15 is divisible by 3\n",
      "18 is divisible by 3\n",
      "21 is divisible by 3\n",
      "24 is divisible by 3\n"
     ]
    }
   ],
   "source": [
    "#Q6\n",
    "l = list(range(25))\n",
    "for i in l:\n",
    "    if i%3 == 0:\n",
    "        print(f'{i} is divisible by 3')"
   ]
  },
  {
   "cell_type": "code",
   "execution_count": 10,
   "id": "d8afa229-1ef8-4ca9-a8a8-5cbb2cdfc0ec",
   "metadata": {},
   "outputs": [
    {
     "ename": "NameError",
     "evalue": "name 'a' is not defined",
     "output_type": "error",
     "traceback": [
      "\u001b[0;31m---------------------------------------------------------------------------\u001b[0m",
      "\u001b[0;31mNameError\u001b[0m                                 Traceback (most recent call last)",
      "Cell \u001b[0;32mIn[10], line 2\u001b[0m\n\u001b[1;32m      1\u001b[0m s \u001b[38;5;241m=\u001b[39m \u001b[38;5;124m\"\u001b[39m\u001b[38;5;124msokokd\u001b[39m\u001b[38;5;124m\"\u001b[39m\n\u001b[0;32m----> 2\u001b[0m s[\u001b[38;5;241m0\u001b[39m] \u001b[38;5;241m=\u001b[39m \u001b[43ma\u001b[49m\n",
      "\u001b[0;31mNameError\u001b[0m: name 'a' is not defined"
     ]
    }
   ],
   "source": [
    "s = \"sokokd\" #string is immutable we canr change the value in string in specific index\n",
    "s[0] = a"
   ]
  },
  {
   "cell_type": "code",
   "execution_count": null,
   "id": "41c32aa6-e877-4cf6-92f9-704660d4b999",
   "metadata": {},
   "outputs": [],
   "source": [
    "l = [1, 2, 5, 'dwfe', True]"
   ]
  },
  {
   "cell_type": "code",
   "execution_count": null,
   "id": "f9eeaee3-d3e9-492c-9e45-8133ef8eac23",
   "metadata": {},
   "outputs": [],
   "source": []
  }
 ],
 "metadata": {
  "kernelspec": {
   "display_name": "Python 3 (ipykernel)",
   "language": "python",
   "name": "python3"
  },
  "language_info": {
   "codemirror_mode": {
    "name": "ipython",
    "version": 3
   },
   "file_extension": ".py",
   "mimetype": "text/x-python",
   "name": "python",
   "nbconvert_exporter": "python",
   "pygments_lexer": "ipython3",
   "version": "3.10.8"
  }
 },
 "nbformat": 4,
 "nbformat_minor": 5
}
